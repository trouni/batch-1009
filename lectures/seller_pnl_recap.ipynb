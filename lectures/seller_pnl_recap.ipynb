{
 "cells": [
  {
   "cell_type": "code",
   "execution_count": null,
   "metadata": {},
   "outputs": [],
   "source": [
    "import numpy as np\n",
    "import pandas as pd\n",
    "import matplotlib.pyplot as plt\n",
    "import seaborn as sns\n",
    "\n",
    "%load_ext autoreload\n",
    "%autoreload 2"
   ]
  },
  {
   "cell_type": "markdown",
   "metadata": {},
   "source": [
    "# SELLER P&L ANALYSIS"
   ]
  },
  {
   "cell_type": "markdown",
   "metadata": {},
   "source": [
    "🎯 The goal of this exercise is to compute the P&L associated to each seller  \n",
    "\n",
    "For each `seller_id` we need three items:  \n",
    "\n",
    "- The **revenue**:\n",
    " - 10% fee on sales\n",
    " - 80 BRL per month on Olist\n",
    "\n",
    "\n",
    "- The **cost**:\n",
    " - Review cost according to `{1: 100, 2: 50, 3: 40, 4: 0, 5: 0}` with review score as key and cost in BRL as value\n",
    "\n",
    "\n",
    "- The **profit** made by Olist\n",
    "\n",
    "💡 Let's not start from scratch  \n",
    "❓ Import your seller training set and investigate what you already have.\n"
   ]
  },
  {
   "cell_type": "code",
   "execution_count": null,
   "metadata": {
    "tags": [
     "challengify"
    ]
   },
   "outputs": [],
   "source": [
    "from olist.seller import Seller\n",
    "seller = Seller()"
   ]
  },
  {
   "cell_type": "code",
   "execution_count": null,
   "metadata": {
    "tags": [
     "delete"
    ]
   },
   "outputs": [
    {
     "data": {
      "text/html": [
       "<div>\n",
       "<style scoped>\n",
       "    .dataframe tbody tr th:only-of-type {\n",
       "        vertical-align: middle;\n",
       "    }\n",
       "\n",
       "    .dataframe tbody tr th {\n",
       "        vertical-align: top;\n",
       "    }\n",
       "\n",
       "    .dataframe thead th {\n",
       "        text-align: right;\n",
       "    }\n",
       "</style>\n",
       "<table border=\"1\" class=\"dataframe\">\n",
       "  <thead>\n",
       "    <tr style=\"text-align: right;\">\n",
       "      <th></th>\n",
       "      <th>seller_id</th>\n",
       "      <th>seller_city</th>\n",
       "      <th>seller_state</th>\n",
       "      <th>delay_to_carrier</th>\n",
       "      <th>wait_time</th>\n",
       "      <th>date_first_sale</th>\n",
       "      <th>date_last_sale</th>\n",
       "      <th>months_on_olist</th>\n",
       "      <th>n_orders</th>\n",
       "      <th>quantity</th>\n",
       "      <th>quantity_per_order</th>\n",
       "      <th>sales</th>\n",
       "      <th>share_of_one_stars</th>\n",
       "      <th>share_of_five_stars</th>\n",
       "      <th>review_score</th>\n",
       "    </tr>\n",
       "  </thead>\n",
       "  <tbody>\n",
       "    <tr>\n",
       "      <th>0</th>\n",
       "      <td>3442f8959a84dea7ee197c632cb2df15</td>\n",
       "      <td>campinas</td>\n",
       "      <td>SP</td>\n",
       "      <td>0.000000</td>\n",
       "      <td>13.018588</td>\n",
       "      <td>2017-05-05 16:25:11</td>\n",
       "      <td>2017-08-30 12:50:19</td>\n",
       "      <td>4.0</td>\n",
       "      <td>3</td>\n",
       "      <td>3</td>\n",
       "      <td>1.000</td>\n",
       "      <td>218.70</td>\n",
       "      <td>0.333333</td>\n",
       "      <td>0.333333</td>\n",
       "      <td>3.00</td>\n",
       "    </tr>\n",
       "    <tr>\n",
       "      <th>1</th>\n",
       "      <td>d1b65fc7debc3361ea86b5f14c68d2e2</td>\n",
       "      <td>mogi guacu</td>\n",
       "      <td>SP</td>\n",
       "      <td>0.000000</td>\n",
       "      <td>9.065716</td>\n",
       "      <td>2017-03-29 02:10:34</td>\n",
       "      <td>2018-06-06 20:15:21</td>\n",
       "      <td>14.0</td>\n",
       "      <td>40</td>\n",
       "      <td>41</td>\n",
       "      <td>1.025</td>\n",
       "      <td>11703.07</td>\n",
       "      <td>0.050000</td>\n",
       "      <td>0.725000</td>\n",
       "      <td>4.55</td>\n",
       "    </tr>\n",
       "    <tr>\n",
       "      <th>2</th>\n",
       "      <td>ce3ad9de960102d0677a81f5d0bb7b2d</td>\n",
       "      <td>rio de janeiro</td>\n",
       "      <td>RJ</td>\n",
       "      <td>0.000000</td>\n",
       "      <td>4.042292</td>\n",
       "      <td>2018-07-30 12:44:49</td>\n",
       "      <td>2018-07-30 12:44:49</td>\n",
       "      <td>0.0</td>\n",
       "      <td>1</td>\n",
       "      <td>1</td>\n",
       "      <td>1.000</td>\n",
       "      <td>158.00</td>\n",
       "      <td>0.000000</td>\n",
       "      <td>1.000000</td>\n",
       "      <td>5.00</td>\n",
       "    </tr>\n",
       "    <tr>\n",
       "      <th>3</th>\n",
       "      <td>c0f3eea2e14555b6faeea3dd58c1b1c3</td>\n",
       "      <td>sao paulo</td>\n",
       "      <td>SP</td>\n",
       "      <td>0.000000</td>\n",
       "      <td>5.667187</td>\n",
       "      <td>2018-08-03 00:44:08</td>\n",
       "      <td>2018-08-03 00:44:08</td>\n",
       "      <td>0.0</td>\n",
       "      <td>1</td>\n",
       "      <td>1</td>\n",
       "      <td>1.000</td>\n",
       "      <td>79.99</td>\n",
       "      <td>0.000000</td>\n",
       "      <td>1.000000</td>\n",
       "      <td>5.00</td>\n",
       "    </tr>\n",
       "    <tr>\n",
       "      <th>4</th>\n",
       "      <td>51a04a8a6bdcb23deccc82b0b80742cf</td>\n",
       "      <td>braganca paulista</td>\n",
       "      <td>SP</td>\n",
       "      <td>3.353727</td>\n",
       "      <td>35.314861</td>\n",
       "      <td>2017-11-14 12:15:25</td>\n",
       "      <td>2017-11-14 12:15:25</td>\n",
       "      <td>0.0</td>\n",
       "      <td>1</td>\n",
       "      <td>1</td>\n",
       "      <td>1.000</td>\n",
       "      <td>167.99</td>\n",
       "      <td>1.000000</td>\n",
       "      <td>0.000000</td>\n",
       "      <td>1.00</td>\n",
       "    </tr>\n",
       "  </tbody>\n",
       "</table>\n",
       "</div>"
      ],
      "text/plain": [
       "                          seller_id        seller_city seller_state  \\\n",
       "0  3442f8959a84dea7ee197c632cb2df15           campinas           SP   \n",
       "1  d1b65fc7debc3361ea86b5f14c68d2e2         mogi guacu           SP   \n",
       "2  ce3ad9de960102d0677a81f5d0bb7b2d     rio de janeiro           RJ   \n",
       "3  c0f3eea2e14555b6faeea3dd58c1b1c3          sao paulo           SP   \n",
       "4  51a04a8a6bdcb23deccc82b0b80742cf  braganca paulista           SP   \n",
       "\n",
       "   delay_to_carrier  wait_time     date_first_sale      date_last_sale  \\\n",
       "0          0.000000  13.018588 2017-05-05 16:25:11 2017-08-30 12:50:19   \n",
       "1          0.000000   9.065716 2017-03-29 02:10:34 2018-06-06 20:15:21   \n",
       "2          0.000000   4.042292 2018-07-30 12:44:49 2018-07-30 12:44:49   \n",
       "3          0.000000   5.667187 2018-08-03 00:44:08 2018-08-03 00:44:08   \n",
       "4          3.353727  35.314861 2017-11-14 12:15:25 2017-11-14 12:15:25   \n",
       "\n",
       "   months_on_olist  n_orders  quantity  quantity_per_order     sales  \\\n",
       "0              4.0         3         3               1.000    218.70   \n",
       "1             14.0        40        41               1.025  11703.07   \n",
       "2              0.0         1         1               1.000    158.00   \n",
       "3              0.0         1         1               1.000     79.99   \n",
       "4              0.0         1         1               1.000    167.99   \n",
       "\n",
       "   share_of_one_stars  share_of_five_stars  review_score  \n",
       "0            0.333333             0.333333          3.00  \n",
       "1            0.050000             0.725000          4.55  \n",
       "2            0.000000             1.000000          5.00  \n",
       "3            0.000000             1.000000          5.00  \n",
       "4            1.000000             0.000000          1.00  "
      ]
     },
     "execution_count": null,
     "metadata": {},
     "output_type": "execute_result"
    }
   ],
   "source": [
    "sellers = seller.get_training_data()\n",
    "sellers.head()"
   ]
  },
  {
   "cell_type": "markdown",
   "metadata": {},
   "source": [
    "❓ What is missing?  \n",
    "Write down a strategy to get your missing columns  \n",
    "Re-use as much of what has already been coded in `seller.py` as possible"
   ]
  },
  {
   "cell_type": "code",
   "execution_count": null,
   "metadata": {},
   "outputs": [],
   "source": [
    "# Your pseudo-code"
   ]
  },
  {
   "cell_type": "markdown",
   "metadata": {},
   "source": [
    "❓ Make a copy of `seller.py`, rename it `seller_updated.py` and update it accordingly"
   ]
  },
  {
   "cell_type": "markdown",
   "metadata": {
    "tags": [
     "delete"
    ]
   },
   "source": [
    "Correction below is equivalent to the `get_review_score` method in `seller_updated.py`\n",
    "\n",
    "Show students how to update their code and print results in their notebook  \n",
    "Debug using `breakpoint()` when needed"
   ]
  },
  {
   "cell_type": "markdown",
   "metadata": {
    "tags": [
     "challengify"
    ]
   },
   "source": [
    "```python\n",
    "def get_review_score(self):\n",
    "    \"\"\"\n",
    "    Returns a DataFrame with:\n",
    "    'seller_id', 'share_of_five_stars', 'share_of_one_stars', 'review_score', 'cost_of_reviews'\n",
    "    \"\"\"\n",
    "\n",
    "    orders_reviews = self.order.get_review_score()\n",
    "    orders_sellers = self.data['order_items'][['order_id', 'seller_id'\n",
    "                                               ]].drop_duplicates()\n",
    "\n",
    "    df = orders_sellers.merge(orders_reviews, on='order_id')\n",
    "\n",
    "    df['cost_of_review'] = df.review_score.map({\n",
    "        1: 100,\n",
    "        2: 50,\n",
    "        3: 40,\n",
    "        4: 0,\n",
    "        5: 0\n",
    "    })\n",
    "\n",
    "    df_grouped_by_sellers = df.groupby('seller_id', as_index=False).agg({\n",
    "        'dim_is_one_star':\n",
    "        'mean',\n",
    "        'dim_is_five_star':\n",
    "        'mean',\n",
    "        'review_score':\n",
    "        'mean',\n",
    "        'cost_of_review':\n",
    "        'sum'\n",
    "    })\n",
    "    df_grouped_by_sellers.columns = [\n",
    "        'seller_id', 'share_of_one_stars', 'share_of_five_stars',\n",
    "        'review_score', 'cost_of_reviews'\n",
    "    ]\n",
    "\n",
    "    return df_grouped_by_sellers\n",
    "```"
   ]
  },
  {
   "cell_type": "markdown",
   "metadata": {},
   "source": [
    "❓ Compute seller profits"
   ]
  },
  {
   "cell_type": "markdown",
   "metadata": {
    "tags": [
     "challengify"
    ]
   },
   "source": [
    "```python\n",
    "def get_training_data(self):\n",
    "    \"\"\"\n",
    "    Returns a DataFrame with:\n",
    "    ['seller_id', 'seller_city', 'seller_state', 'delay_to_carrier',\n",
    "    'wait_time', 'date_first_sale', 'date_last_sale', 'months_on_olist',\n",
    "    'share_of_one_stars', 'share_of_five_stars', 'review_score',\n",
    "    'cost_of_reviews', 'n_orders', 'quantity', 'quantity_per_order',\n",
    "    'sales', 'revenues', 'profits']\n",
    "    \"\"\"\n",
    "    training_set =\\\n",
    "        self.get_seller_features()\\\n",
    "            .merge(\n",
    "            self.get_seller_delay_wait_time(), on='seller_id'\n",
    "        ).merge(\n",
    "            self.get_active_dates(), on='seller_id'\n",
    "        ).merge(\n",
    "            self.get_review_score(), on='seller_id'\n",
    "        ).merge(\n",
    "            self.get_quantity(), on='seller_id'\n",
    "        ).merge(\n",
    "            self.get_sales(), on='seller_id'\n",
    "        )\n",
    "\n",
    "    # Add seller economics (revenues, profits)\n",
    "    olist_monthly_fee = 80\n",
    "    olist_sales_cut = 0.1\n",
    "\n",
    "    training_set['revenues'] = training_set['months_on_olist'] * olist_monthly_fee\\\n",
    "        + olist_sales_cut * training_set['sales']\n",
    "\n",
    "    training_set['profits'] = training_set['revenues'] - training_set[\n",
    "        'cost_of_reviews']\n",
    "\n",
    "    return training_set\n",
    "```"
   ]
  },
  {
   "cell_type": "markdown",
   "metadata": {},
   "source": [
    "❓ Load your updated DataFrame"
   ]
  },
  {
   "cell_type": "code",
   "execution_count": null,
   "metadata": {
    "tags": [
     "challengify"
    ]
   },
   "outputs": [],
   "source": [
    "from olist.seller_updated import Seller as SellerUpdated\n",
    "sellers = SellerUpdated().get_training_data()"
   ]
  },
  {
   "cell_type": "markdown",
   "metadata": {},
   "source": [
    "❓ Sort sellers by profit, and analyse their profitability: conclude on a possible strategy for Olist!"
   ]
  },
  {
   "cell_type": "code",
   "execution_count": null,
   "metadata": {
    "tags": [
     "challengify"
    ]
   },
   "outputs": [
    {
     "data": {
      "text/plain": [
       "Text(0.5, 0, 'seller id')"
      ]
     },
     "execution_count": null,
     "metadata": {},
     "output_type": "execute_result"
    },
    {
     "data": {
      "image/png": "[encoded data removed]",
      "text/plain": [
       "<Figure size 720x360 with 1 Axes>"
      ]
     },
     "metadata": {
      "needs_background": "light"
     },
     "output_type": "display_data"
    }
   ],
   "source": [
    "sorted_sellers = sellers.sort_values(by='profits')[['profits', 'n_orders', 'revenues']].reset_index()\n",
    "sorted_sellers.head()\n",
    "\n",
    "plt.figure(figsize=(10,5))\n",
    "sorted_sellers.profits.plot()\n",
    "plt.title('gross profit per seller')\n",
    "plt.xlabel('seller id')"
   ]
  }
 ],
 "metadata": {
  "kernelspec": {
   "display_name": "Python 3 (ipykernel)",
   "language": "python",
   "name": "python3"
  },
  "language_info": {
   "codemirror_mode": {
    "name": "ipython",
    "version": 3
   },
   "file_extension": ".py",
   "mimetype": "text/x-python",
   "name": "python",
   "nbconvert_exporter": "python",
   "pygments_lexer": "ipython3",
   "version": "3.8.12"
  },
  "toc": {
   "base_numbering": 1,
   "nav_menu": {},
   "number_sections": true,
   "sideBar": true,
   "skip_h1_title": false,
   "title_cell": "Table of Contents",
   "title_sidebar": "Contents",
   "toc_cell": false,
   "toc_position": {},
   "toc_section_display": true,
   "toc_window_display": false
  },
  "varInspector": {
   "cols": {
    "lenName": 16,
    "lenType": 16,
    "lenVar": 40
   },
   "kernels_config": {
    "python": {
     "delete_cmd_postfix": "",
     "delete_cmd_prefix": "del ",
     "library": "var_list.py",
     "varRefreshCmd": "print(var_dic_list())"
    },
    "r": {
     "delete_cmd_postfix": ") ",
     "delete_cmd_prefix": "rm(",
     "library": "var_list.r",
     "varRefreshCmd": "cat(var_dic_list()) "
    }
   },
   "types_to_exclude": [
    "module",
    "function",
    "builtin_function_or_method",
    "instance",
    "_Feature"
   ],
   "window_display": false
  }
 },
 "nbformat": 4,
 "nbformat_minor": 4
}
