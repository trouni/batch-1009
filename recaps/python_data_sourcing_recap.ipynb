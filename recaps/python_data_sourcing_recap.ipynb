{
 "cells": [
  {
   "cell_type": "markdown",
   "metadata": {},
   "source": [
    "# Reboot - Data Collection\n",
    "\n",
    "Let's practise calling an API and navigating a JSON response!\n",
    "\n",
    "---\n",
    "\n",
    "## 1. Simple API call\n",
    "\n",
    "There's an API for pretty much everything. Let's start with a super simple one: the [Breaking Bad quotes API](https://github.com/shevabam/breaking-bad-quotes) (alternatively, use the [Le Wagon Breaking Bad Quotes API](https://breaking-bad.lewagon.com/v1/quotes)).\n",
    "\n",
    "For your convenience, we've included the simple syntax to do an HTTP request in Python and convert the response to a Python object as boilerplate code.\n",
    "\n",
    "The goal here is to get a single, random Breaking Bad quote and print it out to the terminal. \n",
    "\n",
    "Go the [doc](https://github.com/shevabam/breaking-bad-quotes) to find out which URL you need to use. Make sure to carefully check out the data types you're getting back from the API and extract the string you need."
   ]
  },
  {
   "cell_type": "code",
   "execution_count": 1,
   "metadata": {},
   "outputs": [
    {
     "name": "stdout",
     "output_type": "stream",
     "text": [
      "\n",
      "All I can do is wait... for the cancer to come back.\n",
      "\n",
      "  - Skyler White\n",
      "\n"
     ]
    }
   ],
   "source": [
    "import requests\n",
    "\n",
    "# url = 'https://breaking-bad.lewagon.com/v1/quotes'  # alternative API\n",
    "url = 'https://breaking-bad-quotes.herokuapp.com/v1/quotes'\n",
    "response = requests.get(url).json()\n",
    "\n",
    "# TODO: Print the quote + its author in a nice way.\n",
    "print(f\"\"\"\n",
    "{response[0]['quote']}\n",
    "\n",
    "  - {response[0]['author']}\n",
    "\"\"\")"
   ]
  },
  {
   "cell_type": "markdown",
   "metadata": {},
   "source": [
    "---\n",
    "## 2. Looping over API results\n",
    "\n",
    "Often APIs will serve a list of results that we need to loop over and manipulate. For this next example, we will use the [Star Wars API](https://swapi.dev).\n",
    "\n",
    "First, go to the [documentation](https://swapi.dev/documentation) to find out which URL you're going to need to retrieve"
   ]
  },
  {
   "cell_type": "code",
   "execution_count": 2,
   "metadata": {
    "tags": [
     "challengify"
    ]
   },
   "outputs": [],
   "source": [
    "url = \"https://swapi.dev/api/people/\""
   ]
  },
  {
   "cell_type": "markdown",
   "metadata": {},
   "source": [
    "Use `requests` to retrieve the people from the API. Store this in a `response` variable. What's the type of `response`?"
   ]
  },
  {
   "cell_type": "code",
   "execution_count": 3,
   "metadata": {
    "tags": [
     "challengify"
    ]
   },
   "outputs": [],
   "source": [
    "response = requests.get(url).json()\n",
    "people = response['results']"
   ]
  },
  {
   "cell_type": "markdown",
   "metadata": {
    "slideshow": {
     "slide_type": "slide"
    }
   },
   "source": [
    "Loop over the **5 first people** and print a sentece for each following this template:\n",
    "\n",
    "- `Luke Skywalker has blue eyes`\n",
    "- `C-3PO has yellow eyes`\n",
    "- etc."
   ]
  },
  {
   "cell_type": "code",
   "execution_count": 4,
   "metadata": {
    "tags": [
     "challengify"
    ]
   },
   "outputs": [
    {
     "name": "stdout",
     "output_type": "stream",
     "text": [
      "Luke Skywalker has blue eyes\n",
      "C-3PO has yellow eyes\n",
      "R2-D2 has red eyes\n",
      "Darth Vader has yellow eyes\n",
      "Leia Organa has brown eyes\n"
     ]
    }
   ],
   "source": [
    "for person in people[:5]:\n",
    "    print(f\"{person['name']} has {person['eye_color']} eyes\")"
   ]
  },
  {
   "cell_type": "markdown",
   "metadata": {},
   "source": [
    "---\n",
    "## 3. Geocoding\n",
    "\n",
    "A geocoding service is a tool to convert addresses to geo-coordinates and vice versa. We use them every time we fire up our GPS apps and look for a destination.\n",
    "\n",
    "For this exercise, we will use the [Nominatim API](https://nominatim.openstreetmap.org/)\n",
    "\n",
    "First, get familiar with the documentation, [which you will find here](https://nominatim.org/release-docs/latest/api/Overview/). Take a couple of minutes to read through and become familiar with it. In this exercise, we will need to find a set of geo-coordinates for a given address, and find an address from a set of geo-coordinates."
   ]
  },
  {
   "cell_type": "markdown",
   "metadata": {},
   "source": [
    "Use the API to find the latitude and longitude for this address: `10 Downing St, Westminster, London SW1A 2AA, United Kingdom`."
   ]
  },
  {
   "cell_type": "code",
   "execution_count": 5,
   "metadata": {
    "tags": [
     "challengify"
    ]
   },
   "outputs": [
    {
     "data": {
      "text/plain": [
       "(51.50344025, -0.12770820958562096)"
      ]
     },
     "execution_count": 5,
     "metadata": {},
     "output_type": "execute_result"
    }
   ],
   "source": [
    "def get_coordinates(query):\n",
    "    url = 'https://nominatim.openstreetmap.org/search'\n",
    "    params = {\n",
    "        'q': query,\n",
    "        'format': 'jsonv2'\n",
    "    }\n",
    "\n",
    "    response = requests.get(url, params).json()\n",
    "    coordinates = (float(response[0]['lat']), float(response[0]['lon']))\n",
    "    return coordinates\n",
    "\n",
    "get_coordinates('10 Downing St, Westminster, London SW1A 2AA, United Kingdom')"
   ]
  },
  {
   "cell_type": "markdown",
   "metadata": {},
   "source": [
    "Try with another address of your choice!"
   ]
  },
  {
   "cell_type": "code",
   "execution_count": 6,
   "metadata": {
    "tags": [
     "challengify"
    ]
   },
   "outputs": [
    {
     "data": {
      "text/plain": [
       "(35.65858645, 139.74544005796224)"
      ]
     },
     "execution_count": 6,
     "metadata": {},
     "output_type": "execute_result"
    }
   ],
   "source": [
    "get_coordinates('Tokyo Tower')"
   ]
  },
  {
   "cell_type": "markdown",
   "metadata": {},
   "source": [
    "---\n",
    "## 4. Reverse Geocoding\n",
    "\n",
    "Find the address belonging to this set of geo-coordinates: `{'lat': 38.8976633, 'lng': -77.036650 }`.\n",
    "Print the sentence `I would like to visit X`, replacing X with the address you found."
   ]
  },
  {
   "cell_type": "code",
   "execution_count": 7,
   "metadata": {
    "tags": [
     "challengify"
    ]
   },
   "outputs": [],
   "source": [
    "# YOUR CODE HERE"
   ]
  }
 ],
 "metadata": {
  "kernelspec": {
   "display_name": "Python 3 (ipykernel)",
   "language": "python",
   "name": "python3"
  },
  "language_info": {
   "codemirror_mode": {
    "name": "ipython",
    "version": 3
   },
   "file_extension": ".py",
   "mimetype": "text/x-python",
   "name": "python",
   "nbconvert_exporter": "python",
   "pygments_lexer": "ipython3",
   "version": "3.8.12"
  },
  "toc": {
   "base_numbering": 1,
   "nav_menu": {},
   "number_sections": true,
   "sideBar": true,
   "skip_h1_title": false,
   "title_cell": "Table of Contents",
   "title_sidebar": "Contents",
   "toc_cell": false,
   "toc_position": {},
   "toc_section_display": true,
   "toc_window_display": false
  },
  "varInspector": {
   "cols": {
    "lenName": 16,
    "lenType": 16,
    "lenVar": 40
   },
   "kernels_config": {
    "python": {
     "delete_cmd_postfix": "",
     "delete_cmd_prefix": "del ",
     "library": "var_list.py",
     "varRefreshCmd": "print(var_dic_list())"
    },
    "r": {
     "delete_cmd_postfix": ") ",
     "delete_cmd_prefix": "rm(",
     "library": "var_list.r",
     "varRefreshCmd": "cat(var_dic_list()) "
    }
   },
   "types_to_exclude": [
    "module",
    "function",
    "builtin_function_or_method",
    "instance",
    "_Feature"
   ],
   "window_display": false
  }
 },
 "nbformat": 4,
 "nbformat_minor": 4
}
